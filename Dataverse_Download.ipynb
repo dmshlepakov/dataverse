{
  "nbformat": 4,
  "nbformat_minor": 0,
  "metadata": {
    "colab": {
      "name": "Dataverse Download.ipynb",
      "provenance": [],
      "collapsed_sections": [],
      "authorship_tag": "ABX9TyP0D1uWui0krBAApPfnLCkd",
      "include_colab_link": true
    },
    "kernelspec": {
      "name": "python3",
      "display_name": "Python 3"
    }
  },
  "cells": [
    {
      "cell_type": "markdown",
      "metadata": {
        "id": "view-in-github",
        "colab_type": "text"
      },
      "source": [
        "<a href=\"https://colab.research.google.com/github/dmshlepakov/dataverse/blob/master/Dataverse_Download.ipynb\" target=\"_parent\"><img src=\"https://colab.research.google.com/assets/colab-badge.svg\" alt=\"Open In Colab\"/></a>"
      ]
    },
    {
      "cell_type": "code",
      "metadata": {
        "id": "FxOYsAWHJmB0",
        "colab_type": "code",
        "colab": {
          "base_uri": "https://localhost:8080/",
          "height": 313
        },
        "outputId": "96e64bd7-65ed-4b27-df7c-5d88bd7a65de"
      },
      "source": [
        "# Import & Settings\n",
        "import pandas as pd\n",
        "import numpy as np\n",
        "import os\n",
        "from google.colab import drive\n",
        "\n",
        "!pip install pyDataverse \n",
        "#documentation here: https://pydataverse.readthedocs.io/en/latest/index.html#quickstart\n",
        "from pyDataverse.api import Api\n",
        "from pyDataverse.models import Dataverse\n",
        "#"
      ],
      "execution_count": 1,
      "outputs": [
        {
          "output_type": "stream",
          "text": [
            "Collecting pyDataverse\n",
            "  Downloading https://files.pythonhosted.org/packages/d6/35/b1c86927957cbe30ce8f9115a5775bf8c0e62573e1af9f883a589f9a0927/pyDataverse-0.2.1-py2.py3-none-any.whl\n",
            "Requirement already satisfied: requests>=2.12.0 in /usr/local/lib/python3.6/dist-packages (from pyDataverse) (2.23.0)\n",
            "Requirement already satisfied: chardet<4,>=3.0.2 in /usr/local/lib/python3.6/dist-packages (from requests>=2.12.0->pyDataverse) (3.0.4)\n",
            "Requirement already satisfied: idna<3,>=2.5 in /usr/local/lib/python3.6/dist-packages (from requests>=2.12.0->pyDataverse) (2.9)\n",
            "Requirement already satisfied: certifi>=2017.4.17 in /usr/local/lib/python3.6/dist-packages (from requests>=2.12.0->pyDataverse) (2020.4.5.1)\n",
            "Requirement already satisfied: urllib3!=1.25.0,!=1.25.1,<1.26,>=1.21.1 in /usr/local/lib/python3.6/dist-packages (from requests>=2.12.0->pyDataverse) (1.24.3)\n",
            "Installing collected packages: pyDataverse\n",
            "Successfully installed pyDataverse-0.2.1\n",
            "Go to this URL in a browser: https://accounts.google.com/o/oauth2/auth?client_id=947318989803-6bn6qk8qdgf4n4g3pfee6491hc0brc4i.apps.googleusercontent.com&redirect_uri=urn%3aietf%3awg%3aoauth%3a2.0%3aoob&response_type=code&scope=email%20https%3a%2f%2fwww.googleapis.com%2fauth%2fdocs.test%20https%3a%2f%2fwww.googleapis.com%2fauth%2fdrive%20https%3a%2f%2fwww.googleapis.com%2fauth%2fdrive.photos.readonly%20https%3a%2f%2fwww.googleapis.com%2fauth%2fpeopleapi.readonly\n",
            "\n",
            "Enter your authorization code:\n",
            "··········\n",
            "Mounted at /content/gdrive\n",
            "/content/gdrive/My Drive/COVID-19/data\n"
          ],
          "name": "stdout"
        }
      ]
    },
    {
      "cell_type": "code",
      "metadata": {
        "id": "ocp7VPh5LPsL",
        "colab_type": "code",
        "colab": {}
      },
      "source": [
        "# Mount Google Drive for saving files\n",
        "drive.mount('/content/gdrive', force_remount=True)\n",
        "root = os.getcwd()\n",
        "filepath = 'gdrive/My Drive/COVID-19/data'\n",
        "cwd = os.path.join(root, filepath)\n",
        "os.chdir(cwd)\n",
        "print(os.getcwd())\n",
        "#"
      ],
      "execution_count": 0,
      "outputs": []
    },
    {
      "cell_type": "code",
      "metadata": {
        "id": "ucSKOxNsJqPI",
        "colab_type": "code",
        "colab": {
          "base_uri": "https://localhost:8080/",
          "height": 35
        },
        "outputId": "31f59a02-ba44-439d-d611-fae20da40e6d"
      },
      "source": [
        "# Establish connection to Dataverse\n",
        "base_url = 'http://datasets.coronawhy.org'\n",
        "api = Api(base_url)\n",
        "print('Dataverse connection status: ', api.status)\n",
        "#"
      ],
      "execution_count": 5,
      "outputs": [
        {
          "output_type": "stream",
          "text": [
            "Dataverse connection status:  OK\n"
          ],
          "name": "stdout"
        }
      ]
    },
    {
      "cell_type": "code",
      "metadata": {
        "id": "6xJ5maqqjDeN",
        "colab_type": "code",
        "colab": {
          "base_uri": "https://localhost:8080/",
          "height": 35
        },
        "outputId": "20598c94-8d33-4004-ed0c-b07a6fda973c"
      },
      "source": [
        "# Get dataverse info\n",
        "dv = ':root' \n",
        "response = api.get_dataverse(dv)\n",
        "response.json()\n",
        "#"
      ],
      "execution_count": 20,
      "outputs": [
        {
          "output_type": "stream",
          "text": [
            "{}\n"
          ],
          "name": "stdout"
        }
      ]
    },
    {
      "cell_type": "code",
      "metadata": {
        "id": "KcGmd-TLMTQx",
        "colab_type": "code",
        "colab": {
          "base_uri": "https://localhost:8080/",
          "height": 35
        },
        "outputId": "b0151df2-6602-4134-a366-084bda249e70"
      },
      "source": [
        "# Get dataverse information by id\n",
        "dv = 'doi:10.5072/FK2/DKZOAH' #specifically in the 'covid-19' dataverse, but that doesn't provide the file id we need in the next cell\n",
        "response = api.get_dataset(dv) # in Dataverse \n",
        "datafile_id = response.json()['data']['id']\n",
        "print(datafile_id)"
      ],
      "execution_count": 13,
      "outputs": [
        {
          "output_type": "stream",
          "text": [
            "52\n"
          ],
          "name": "stdout"
        }
      ]
    },
    {
      "cell_type": "code",
      "metadata": {
        "id": "gQKS5LZ9J1Z5",
        "colab_type": "code",
        "colab": {
          "base_uri": "https://localhost:8080/",
          "height": 35
        },
        "outputId": "ced94f51-bf55-4d32-f114-f8da93f3c223"
      },
      "source": [
        "# Download datafile\n",
        "resp = api.get_datafile(datafile_id)\n",
        "\n",
        "with open('v9text.json.gz', 'wb') as f: \n",
        "    f.write(resp.content)\n",
        "os.listdir()\n",
        "#"
      ],
      "execution_count": 11,
      "outputs": [
        {
          "output_type": "execute_result",
          "data": {
            "text/plain": [
              "['v8processedText', 'v9text', 'v9text.json.gz']"
            ]
          },
          "metadata": {
            "tags": []
          },
          "execution_count": 11
        }
      ]
    }
  ]
}